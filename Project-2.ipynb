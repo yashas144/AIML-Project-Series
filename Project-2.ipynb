{
 "cells": [
  {
   "cell_type": "code",
   "execution_count": 1,
   "metadata": {},
   "outputs": [
    {
     "name": "stdout",
     "output_type": "stream",
     "text": [
      "Welcome to the College Admission Bot! How can I assist you today?\n",
      "Bot: The admission deadline is March 31st, 2024.\n",
      "Bot: I'm sorry, I couldn't understand your query. Could you please rephrase it?\n",
      "Bot: Thank you for using the College Admission Bot. Goodbye!\n"
     ]
    }
   ],
   "source": [
    "import random\n",
    "\n",
    "class AdmissionBot:\n",
    "    def __init__(self):\n",
    "        self.context = {}\n",
    "\n",
    "    def welcome_message(self):\n",
    "        return \"Welcome to the College Admission Bot! How can I assist you today?\"\n",
    "\n",
    "    def respond_to_query(self, query):\n",
    "        if \"deadline\" in query:\n",
    "            return \"The admission deadline is March 31st, 2024.\"\n",
    "        elif \"procedure\" in query:\n",
    "            return \"The admission procedure involves submitting an online application and providing necessary documents.\"\n",
    "        elif \"requirements\" in query:\n",
    "            return \"The admission requirements include high school transcripts, standardized test scores, and letters of recommendation.\"\n",
    "        else:\n",
    "            return \"I'm sorry, I couldn't understand your query. Could you please rephrase it?\"\n",
    "\n",
    "    def handle_user_input(self, user_input):\n",
    "        if \"exit\" in user_input:\n",
    "            return \"Thank you for using the College Admission Bot. Goodbye!\"\n",
    "        else:\n",
    "            response = self.respond_to_query(user_input)\n",
    "            return response\n",
    "\n",
    "    def interact(self):\n",
    "        print(self.welcome_message())\n",
    "        while True:\n",
    "            user_input = input(\"You: \").lower()\n",
    "            response = self.handle_user_input(user_input)\n",
    "            print(\"Bot:\", response)\n",
    "            if \"exit\" in user_input:\n",
    "                break\n",
    "\n",
    "if __name__ == \"__main__\":\n",
    "    bot = AdmissionBot()\n",
    "    bot.interact()\n"
   ]
  }
 ],
 "metadata": {
  "kernelspec": {
   "display_name": "base",
   "language": "python",
   "name": "python3"
  },
  "language_info": {
   "codemirror_mode": {
    "name": "ipython",
    "version": 3
   },
   "file_extension": ".py",
   "mimetype": "text/x-python",
   "name": "python",
   "nbconvert_exporter": "python",
   "pygments_lexer": "ipython3",
   "version": "3.11.5"
  }
 },
 "nbformat": 4,
 "nbformat_minor": 2
}
