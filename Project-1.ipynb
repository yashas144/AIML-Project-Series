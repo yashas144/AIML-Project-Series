{
 "cells": [
  {
   "cell_type": "code",
   "execution_count": 1,
   "metadata": {},
   "outputs": [
    {
     "name": "stdout",
     "output_type": "stream",
     "text": [
      "Hello! I'm your friendly chatbot. How can I help you today?\n",
      "Chatbot: I'm doing well, thank you!\n",
      "I'm not sure how to respond to that.\n",
      "Goodbye! If you have more questions, feel free to ask anytime.\n",
      "That's interesting!\n",
      "That's interesting!\n",
      "That's interesting!\n"
     ]
    }
   ],
   "source": [
    "class SimpleChatbot:\n",
    "    def __init__(self):\n",
    "        self.context = {}\n",
    "\n",
    "    def greet(self):\n",
    "        return \"Hello! I'm your friendly chatbot. How can I help you today?\"\n",
    "\n",
    "    def farewell(self):\n",
    "        return \"Goodbye! If you have more questions, feel free to ask anytime.\"\n",
    "\n",
    "    def respond_to_question(self, question):\n",
    "        responses = {\n",
    "            \"How are you?\": \"I'm doing well, thank you!\",\n",
    "            \"What's your name?\": \"I'm a chatbot. You can call me ChatGPT.\",\n",
    "            \"Who created you?\": \"I was created by OpenAI.\",\n",
    "            \"What is the meaning of life?\": \"The meaning of life is subjective. What do you think?\",\n",
    "            \"Can you tell a joke?\": \"Sure, why did the computer keep its drink on the windowsill? Because it wanted a cold drink!\",\n",
    "        }\n",
    "        return responses.get(question, \"I'm not sure how to respond to that.\")\n",
    "\n",
    "    def ask_user_questions(self):\n",
    "        questions = [\n",
    "            \"What's your favorite color?\",\n",
    "            \"How can I assist you today?\",\n",
    "            \"Tell me something interesting about yourself.\",\n",
    "        ]\n",
    "\n",
    "        for question in questions:\n",
    "            user_response = input(question + \" \")\n",
    "            self.context[question] = user_response\n",
    "            print(\"That's interesting!\")\n",
    "\n",
    "    def chat(self):\n",
    "        print(self.greet())\n",
    "\n",
    "        while True:\n",
    "            user_input = input(\"You: \")\n",
    "\n",
    "            if user_input.lower() == 'exit':\n",
    "                print(self.farewell())\n",
    "                break\n",
    "\n",
    "            response = self.respond_to_question(user_input)\n",
    "\n",
    "            if response == \"I'm not sure how to respond to that.\":\n",
    "                print(response)\n",
    "            else:\n",
    "                print(\"Chatbot:\", response)\n",
    "\n",
    "        self.ask_user_questions()\n",
    "\n",
    "if __name__ == \"__main__\":\n",
    "    chatbot = SimpleChatbot()\n",
    "    chatbot.chat()"
   ]
  }
 ],
 "metadata": {
  "kernelspec": {
   "display_name": "base",
   "language": "python",
   "name": "python3"
  },
  "language_info": {
   "codemirror_mode": {
    "name": "ipython",
    "version": 3
   },
   "file_extension": ".py",
   "mimetype": "text/x-python",
   "name": "python",
   "nbconvert_exporter": "python",
   "pygments_lexer": "ipython3",
   "version": "3.11.5"
  }
 },
 "nbformat": 4,
 "nbformat_minor": 2
}
